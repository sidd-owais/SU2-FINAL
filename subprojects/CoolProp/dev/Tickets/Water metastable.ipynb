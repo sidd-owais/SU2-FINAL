{
 "cells": [
  {
   "cell_type": "code",
   "execution_count": 41,
   "metadata": {
    "collapsed": false
   },
   "outputs": [
    {
     "data": {
      "image/png": "[encoded data removed]",
      "text/plain": [
       "<matplotlib.figure.Figure at 0x108e93d50>"
      ]
     },
     "metadata": {},
     "output_type": "display_data"
    }
   ],
   "source": [
    "import CoolProp, numpy as np\n",
    "import matplotlib.pyplot as plt\n",
    "%matplotlib inline\n",
    "AS = CoolProp.AbstractState('HEOS','Water')\n",
    "\n",
    "T = 300\n",
    "rhoc = AS.rhomolar_critical()\n",
    "\n",
    "# Saturated liquid density\n",
    "AS.update(CoolProp.QT_INPUTS, 0, T)\n",
    "rhoL = AS.rhomolar()\n",
    "plt.axvline(rhoL/1000.0,lw=2,c='r')\n",
    "# Saturated vapor density\n",
    "AS.update(CoolProp.QT_INPUTS, 1, T)\n",
    "rhoV = AS.rhomolar()\n",
    "plt.axvline(rhoV/1000.0,lw=2,c='r')\n",
    "\n",
    "AS.specify_phase(CoolProp.iphase_liquid) # Something homogeneous to avoid flash call\n",
    "\n",
    "plt.axvline(rhoc/1000.0,dashes = [2,2])\n",
    "p = []\n",
    "rho = np.linspace(1e0, rhoc*5, 10000)\n",
    "for D in rho:\n",
    "    AS.update(CoolProp.DmolarT_INPUTS, D, T)\n",
    "    p.append(AS.p())\n",
    "    \n",
    "plt.plot(rho/1000.0,np.array(p)/1e6)\n",
    "#plt.yscale('log')\n",
    "plt.ylim(-1e6,10e5) # Undo this to see how crazy it is\n",
    "plt.xscale('log')\n",
    "plt.xlabel(r'$\\rho$ (mol/L)')\n",
    "lab = plt.ylabel(r'$p$ (MPa)')"
   ]
  },
  {
   "cell_type": "code",
   "execution_count": null,
   "metadata": {
    "collapsed": true
   },
   "outputs": [],
   "source": []
  }
 ],
 "metadata": {
  "kernelspec": {
   "display_name": "Python 2",
   "language": "python",
   "name": "python2"
  },
  "language_info": {
   "codemirror_mode": {
    "name": "ipython",
    "version": 2
   },
   "file_extension": ".py",
   "mimetype": "text/x-python",
   "name": "python",
   "nbconvert_exporter": "python",
   "pygments_lexer": "ipython2",
   "version": "2.7.10"
  }
 },
 "nbformat": 4,
 "nbformat_minor": 0
}
