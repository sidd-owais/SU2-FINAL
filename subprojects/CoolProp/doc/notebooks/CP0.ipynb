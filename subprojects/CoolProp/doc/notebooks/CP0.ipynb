{
 "metadata": {
  "name": ""
 },
 "nbformat": 3,
 "nbformat_minor": 0,
 "worksheets": [
  {
   "cells": [
    {
     "cell_type": "heading",
     "level": 1,
     "metadata": {},
     "source": [
      "Derivation and Conversion of Planck-Einstein Terms"
     ]
    },
    {
     "cell_type": "markdown",
     "metadata": {},
     "source": [
      "Start with a generalized Helmholtz energy from \n",
      "$$\\alpha^0 = a_k\\log\\left[c_k + d_k\\exp\\left(\\frac{b_k\\tau}{T_c}\\right)\\right]$$\n",
      "\n",
      "The ideal-gas specific heat can be obtained from \n",
      "$$\\frac{c_p^0}{R} = -\\tau^2\\alpha^0_{\\tau\\tau}$$\n",
      "\n",
      "After some math shown below (and some manual grouping):\n",
      "$$\\frac{c_p^0}{R} = - \\frac{a_{k} (b_{k}\\tau/T_c)^{2} c_k d_{k} e^{\\frac{b_{k} \\tau}{T_{c}}}}{ \\left(c_{k} + d_{k} e^{\\frac{b_{k} \\tau}{T_{c}}}\\right)^2} $$\n",
      "\n",
      "Two important identities:\n",
      "$$ \\left(\\frac{1}{\\cosh x}\\right) = \\frac{2e^{-x}}{1+e^{-2x}}$$\n",
      "$$ \\left(\\frac{1}{\\sinh x}\\right) = \\frac{2e^{-x}}{1-e^{-2x}}$$\n",
      "which yield\n",
      "$$ \\left(\\frac{x}{\\cosh x}\\right)^2 = \\frac{4x^2e^{-2x}}{(1+e^{-2x})^2} = \\frac{(-2x)^2e^{-2x}}{(1+e^{-2x})^2}$$\n",
      "$$ \\left(\\frac{x}{\\sinh x}\\right)^2 = \\frac{4x^2e^{-2x}}{(1-e^{-2x})^2} = \\frac{(-2x)^2e^{-2x}}{(1-e^{-2x})^2}$$"
     ]
    },
    {
     "cell_type": "code",
     "collapsed": false,
     "input": [
      "from __future__ import division\n",
      "from sympy import *\n",
      "init_session(quiet=True)\n",
      "init_printing()"
     ],
     "language": "python",
     "metadata": {},
     "outputs": [
      {
       "output_type": "stream",
       "stream": "stdout",
       "text": [
        "IPython console for SymPy 0.7.5 (Python 2.7.2-32-bit) (ground types: python)\n"
       ]
      }
     ],
     "prompt_number": 4
    },
    {
     "cell_type": "code",
     "collapsed": false,
     "input": [
      "a_k,b_k,c_k,d_k,tau,T_c = symbols('a_k,b_k,c_k,d_k,tau,T_c',real=True)\n",
      "alpha0 = a_k*log(c_k + d_k*exp(b_k*tau/T_c))\n",
      "print 'No derivatives'\n",
      "display(alpha0)\n",
      "print 'First partial w.r.t. tau'\n",
      "display(diff(alpha0, tau, 1).simplify())\n",
      "print 'Second partial w.r.t. tau'\n",
      "display(diff(alpha0, tau, 2).simplify())\n",
      "print latex(diff(alpha0, tau, 2).simplify()*(-tau**2))\n",
      "print 'Third partial w.r.t. tau'\n",
      "display(diff(alpha0, tau, 3).simplify())"
     ],
     "language": "python",
     "metadata": {},
     "outputs": [
      {
       "output_type": "stream",
       "stream": "stdout",
       "text": [
        "No derivatives\n"
       ]
      },
      {
       "latex": [
        "$$a_{k} \\log{\\left (c_{k} + d_{k} e^{\\frac{b_{k} \\tau}{T_{c}}} \\right )}$$"
       ],
       "metadata": {},
       "output_type": "display_data",
       "png": "[encoded data removed]",
       "text": [
        "       \u239b           b_k\u22c5\u03c4\u239e\n",
        "       \u239c           \u2500\u2500\u2500\u2500\u2500\u239f\n",
        "       \u239c            T_c \u239f\n",
        "a_k\u22c5log\u239dc_k + d_k\u22c5\u212f     \u23a0"
       ]
      },
      {
       "output_type": "stream",
       "stream": "stdout",
       "text": [
        "First partial w.r.t. tau\n"
       ]
      },
      {
       "latex": [
        "$$\\frac{a_{k} b_{k} d_{k} e^{\\frac{b_{k} \\tau}{T_{c}}}}{T_{c} \\left(c_{k} + d_{k} e^{\\frac{b_{k} \\tau}{T_{c}}}\\right)}$$"
       ],
       "metadata": {},
       "output_type": "display_data",
       "png": "[encoded data removed]",
       "text": [
        "               b_k\u22c5\u03c4  \n",
        "               \u2500\u2500\u2500\u2500\u2500  \n",
        "                T_c   \n",
        "  a_k\u22c5b_k\u22c5d_k\u22c5\u212f       \n",
        "\u2500\u2500\u2500\u2500\u2500\u2500\u2500\u2500\u2500\u2500\u2500\u2500\u2500\u2500\u2500\u2500\u2500\u2500\u2500\u2500\u2500\u2500\n",
        "    \u239b           b_k\u22c5\u03c4\u239e\n",
        "    \u239c           \u2500\u2500\u2500\u2500\u2500\u239f\n",
        "    \u239c            T_c \u239f\n",
        "T_c\u22c5\u239dc_k + d_k\u22c5\u212f     \u23a0"
       ]
      },
      {
       "output_type": "stream",
       "stream": "stdout",
       "text": [
        "Second partial w.r.t. tau\n"
       ]
      },
      {
       "latex": [
        "$$\\frac{a_{k} b_{k}^{2} c_{k} d_{k} e^{\\frac{b_{k} \\tau}{T_{c}}}}{T_{c}^{2} \\left(c_{k} + d_{k} e^{\\frac{b_{k} \\tau}{T_{c}}}\\right)^{2}}$$"
       ],
       "metadata": {},
       "output_type": "display_data",
       "png": "[encoded data removed]",
       "text": [
        "                  b_k\u22c5\u03c4 \n",
        "                  \u2500\u2500\u2500\u2500\u2500 \n",
        "       2           T_c  \n",
        "a_k\u22c5b_k \u22c5c_k\u22c5d_k\u22c5\u212f      \n",
        "\u2500\u2500\u2500\u2500\u2500\u2500\u2500\u2500\u2500\u2500\u2500\u2500\u2500\u2500\u2500\u2500\u2500\u2500\u2500\u2500\u2500\u2500\u2500\u2500\n",
        "                       2\n",
        "     \u239b           b_k\u22c5\u03c4\u239e \n",
        "     \u239c           \u2500\u2500\u2500\u2500\u2500\u239f \n",
        "   2 \u239c            T_c \u239f \n",
        "T_c \u22c5\u239dc_k + d_k\u22c5\u212f     \u23a0 "
       ]
      },
      {
       "output_type": "stream",
       "stream": "stdout",
       "text": [
        "- \\frac{a_{k} b_{k}^{2} c_{k} d_{k} \\tau^{2} e^{\\frac{b_{k} \\tau}{T_{c}}}}{T_{c}^{2} \\left(c_{k} + d_{k} e^{\\frac{b_{k} \\tau}{T_{c}}}\\right)^{2}}\n",
        "Third partial w.r.t. tau\n"
       ]
      },
      {
       "latex": [
        "$$\\frac{a_{k} b_{k}^{3} c_{k} d_{k} \\left(c_{k} - d_{k} e^{\\frac{b_{k} \\tau}{T_{c}}}\\right) e^{\\frac{b_{k} \\tau}{T_{c}}}}{T_{c}^{3} \\left(c_{k}^{3} + 3 c_{k}^{2} d_{k} e^{\\frac{b_{k} \\tau}{T_{c}}} + 3 c_{k} d_{k}^{2} e^{\\frac{2 b_{k}}{T_{c}} \\tau} + d_{k}^{3} e^{\\frac{3 b_{k}}{T_{c}} \\tau}\\right)}$$"
       ],
       "metadata": {},
       "output_type": "display_data",
       "png": "[encoded data removed]",
       "text": [
        "                               \u239b           b_k\u22c5\u03c4\u239e  b_k\u22c5\u03c4             \n",
        "                               \u239c           \u2500\u2500\u2500\u2500\u2500\u239f  \u2500\u2500\u2500\u2500\u2500             \n",
        "                     3         \u239c            T_c \u239f   T_c              \n",
        "              a_k\u22c5b_k \u22c5c_k\u22c5d_k\u22c5\u239dc_k - d_k\u22c5\u212f     \u23a0\u22c5\u212f                  \n",
        "\u2500\u2500\u2500\u2500\u2500\u2500\u2500\u2500\u2500\u2500\u2500\u2500\u2500\u2500\u2500\u2500\u2500\u2500\u2500\u2500\u2500\u2500\u2500\u2500\u2500\u2500\u2500\u2500\u2500\u2500\u2500\u2500\u2500\u2500\u2500\u2500\u2500\u2500\u2500\u2500\u2500\u2500\u2500\u2500\u2500\u2500\u2500\u2500\u2500\u2500\u2500\u2500\u2500\u2500\u2500\u2500\u2500\u2500\u2500\u2500\u2500\u2500\u2500\u2500\u2500\u2500\u2500\u2500\u2500\n",
        "     \u239b                   b_k\u22c5\u03c4               2\u22c5b_k\u22c5\u03c4         3\u22c5b_k\u22c5\u03c4\u239e\n",
        "     \u239c                   \u2500\u2500\u2500\u2500\u2500               \u2500\u2500\u2500\u2500\u2500\u2500\u2500         \u2500\u2500\u2500\u2500\u2500\u2500\u2500\u239f\n",
        "   3 \u239c   3        2       T_c             2    T_c        3    T_c  \u239f\n",
        "T_c \u22c5\u239dc_k  + 3\u22c5c_k \u22c5d_k\u22c5\u212f      + 3\u22c5c_k\u22c5d_k \u22c5\u212f        + d_k \u22c5\u212f       \u23a0"
       ]
      }
     ],
     "prompt_number": 16
    },
    {
     "cell_type": "markdown",
     "metadata": {},
     "source": [
      "Aly-Lee starts as\n",
      "$$\\frac{c_p^0}{R_u} = A + B\\left(\\frac{C/T}{\\sinh(C/T)}\\right)^2 + D\\left(\\frac{E/T}{\\cosh(E/T)}\\right)^2$$\n",
      "and generalized Plank-Einstein term is given by\n",
      "$$\\frac{c_p^0}{R_u} = - \\frac{a_{k} b_{k}^{2} c_{k} d_{k} \\tau^{2} e^{\\frac{b_{k} \\tau}{T_{c}}}}{T_{c}^{2} \\left(c_{k} + d_{k} e^{\\frac{b_{k} \\tau}{T_{c}}}\\right)^{2}}$$\n",
      "\n",
      "Constant is separated out, and handled separately.  sinh part can be expanded as\n",
      "$$B\\left(\\frac{C/T}{\\sinh(C/T)}\\right)^2 = \\frac{B(-2C/T)^2\\exp(-2C/T)}{(1-\\exp(-2C/T))^2}$$\n",
      "where\n",
      "$$a_k = B$$\n",
      "$$b_k = -2C$$\n",
      "$$c_k = 1$$\n",
      "$$d_k = -1$$\n",
      "\n",
      "cosh part can be expanded as\n",
      "$$D\\left(\\frac{E/T}{\\cosh(E/T)}\\right)^2 = \\frac{D(-2E/T)^2\\exp(-2E/T)}{(1+\\exp(-2E/T))^2}$$\n",
      "where\n",
      "$$a_k = -D$$\n",
      "$$b_k = -2E$$\n",
      "$$c_k = 1$$\n",
      "$$d_k = 1$$"
     ]
    },
    {
     "cell_type": "code",
     "collapsed": false,
     "input": [
      "B, D, T = symbols('B, D, T', real = True, positive = True)\n",
      "# From Aly-Lee:\n",
      "term1 = ((D/T)/sinh(D/T))**2\n",
      "# Planck Einstein\n",
      "term2 = (B/T)**2*exp(B/T)/(exp(B/T)-1)**2\n",
      "diff1 = term2 - term1\n",
      "display(diff1.rewrite(exp).subs(B, 2*D).simplify())\n",
      "term2 = (2*D/T)**2*exp(2*D/T)/(exp(2*D/T)-1)**2\n",
      "display(term2)\n",
      "print 'which is the same as the Aly-Lee sinh term with a_k = C, b_k = 2*D, c_k = -1, d_k = 1'\n",
      "\n",
      "B, F, T = symbols('B, F, T', real = True, positive = True)\n",
      "# From Aly-Lee:\n",
      "term1 = ((F/T)/cosh(F/T))**2\n",
      "# Planck Einstein\n",
      "term2 = (B/T)**2*exp(-B/T)/(exp(-B/T)+1)**2\n",
      "diff2 = term2 - term1\n",
      "display(diff2.rewrite(exp).subs(B, 2*F).simplify())\n",
      "# So Aly-Lee cosh term can be directly converted to Plank-Einstein2 term with b_k = 2*F, and c=1"
     ],
     "language": "python",
     "metadata": {},
     "outputs": [
      {
       "latex": [
        "$$0$$"
       ],
       "metadata": {},
       "output_type": "display_data",
       "png": "[encoded data removed]",
       "text": [
        "0"
       ]
      },
      {
       "latex": [
        "$$\\frac{4 D^{2} e^{\\frac{2 D}{T}}}{T^{2} \\left(e^{\\frac{2 D}{T}} - 1\\right)^{2}}$$"
       ],
       "metadata": {},
       "output_type": "display_data",
       "png": "[encoded data removed]",
       "text": [
        "        2\u22c5D   \n",
        "        \u2500\u2500\u2500   \n",
        "     2   T    \n",
        "  4\u22c5D \u22c5\u212f      \n",
        "\u2500\u2500\u2500\u2500\u2500\u2500\u2500\u2500\u2500\u2500\u2500\u2500\u2500\u2500\n",
        "             2\n",
        "   \u239b 2\u22c5D    \u239e \n",
        "   \u239c \u2500\u2500\u2500    \u239f \n",
        " 2 \u239c  T     \u239f \n",
        "T \u22c5\u239d\u212f    - 1\u23a0 "
       ]
      },
      {
       "output_type": "stream",
       "stream": "stdout",
       "text": [
        "which is the same as the Aly-Lee sinh term with b_k = 2*D\n"
       ]
      },
      {
       "latex": [
        "$$0$$"
       ],
       "metadata": {},
       "output_type": "display_data",
       "png": "[encoded data removed]",
       "text": [
        "0"
       ]
      }
     ],
     "prompt_number": 10
    }
   ],
   "metadata": {}
  }
 ]
}