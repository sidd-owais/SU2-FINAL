{
 "metadata": {
  "name": "",
  "signature": "sha256:a09a62c5ca301d3f63e20ae1ddea45013e338af6b73280fca44334e814ae310d"
 },
 "nbformat": 3,
 "nbformat_minor": 0,
 "worksheets": [
  {
   "cells": [
    {
     "cell_type": "code",
     "collapsed": false,
     "input": [
      "from __future__ import division\n",
      "from sympy import *\n",
      "from IPython.display import display, Math, Latex\n",
      "from IPython.core.display import display_html\n",
      "init_session(quiet=True, use_latex='mathjax')\n",
      "init_printing()"
     ],
     "language": "python",
     "metadata": {},
     "outputs": [
      {
       "output_type": "stream",
       "stream": "stdout",
       "text": [
        "IPython console for SymPy 0.7.6 (Python 2.7.6-32-bit) (ground types: python)\n"
       ]
      }
     ],
     "prompt_number": 1
    },
    {
     "cell_type": "code",
     "collapsed": false,
     "input": [
      "x1,x2,tau,delta = symbols('x1,x2,tau,delta')\n",
      "L11 = symbols('L11', cls=Function)(x1,x2,tau,delta)\n",
      "L12 = symbols('L12', cls=Function)(x1,x2,tau,delta)\n",
      "L21 = symbols('L21', cls=Function)(x1,x2,tau,delta)\n",
      "L22 = symbols('L22', cls=Function)(x1,x2,tau,delta)"
     ],
     "language": "python",
     "metadata": {},
     "outputs": [],
     "prompt_number": 2
    },
    {
     "cell_type": "code",
     "collapsed": false,
     "input": [
      "Lstar = Matrix([[L11,L12],[L21,L22]])\n",
      "L1star = Lstar.det()\n",
      "deriv1 = L1star.diff(t)\n",
      "deriv2 = (Lstar.adjugate()*Lstar.diff(t)).trace()\n",
      "\n",
      "Mstar = Matrix([[L11,L12],[Lstar.det().diff(x1),Lstar.det().diff(x2)]])\n",
      "\n",
      "deriv1 = Mstar.det().diff(tau)\n",
      "deriv2 = (Mstar.adjugate()*Mstar.diff(tau)).trace()\n",
      "simplify(deriv1-deriv2)"
     ],
     "language": "python",
     "metadata": {},
     "outputs": [
      {
       "latex": [
        "$$0$$"
       ],
       "metadata": {},
       "output_type": "pyout",
       "png": "[encoded data removed]",
       "prompt_number": 3,
       "text": [
        "0"
       ]
      }
     ],
     "prompt_number": 3
    },
    {
     "cell_type": "code",
     "collapsed": false,
     "input": [
      "Mstar = Matrix([[0.00112865, 8.76232e-006],[9.57021e-007, 7.42578e-009]])\n",
      "dMstar_dTau = Matrix([[-0.000245724,-0.00118232],[3.20921e-006, -7.171e-008]])\n",
      "adjM = Matrix([[7.42578e-009,-9.57021e-007],[-8.76232e-006, 0.00112865]])\n",
      "(adjM*dMstar_dTau).trace()\n",
      "print Mstar.adjugate()\n",
      "print adjM"
     ],
     "language": "python",
     "metadata": {},
     "outputs": [
      {
       "output_type": "stream",
       "stream": "stdout",
       "text": [
        "Matrix([[7.42578000000000e-9, -8.76232000000000e-6], [-9.57021000000000e-7, 0.00112865000000000]])\n",
        "Matrix([[7.42578000000000e-9, -9.57021000000000e-7], [-8.76232000000000e-6, 0.00112865000000000]])\n"
       ]
      }
     ],
     "prompt_number": 7
    },
    {
     "cell_type": "code",
     "collapsed": false,
     "input": [
      "a,b,c,d = symbols('a,b,c,d')\n",
      "M = Matrix([[a,b],[c,d]])\n",
      "display(M)\n",
      "M.adjugate()"
     ],
     "language": "python",
     "metadata": {},
     "outputs": [
      {
       "latex": [
        "$$\\left[\\begin{matrix}a & b\\\\c & d\\end{matrix}\\right]$$"
       ],
       "metadata": {},
       "output_type": "display_data",
       "png": "[encoded data removed]",
       "text": [
        "\u23a1a  b\u23a4\n",
        "\u23a2    \u23a5\n",
        "\u23a3c  d\u23a6"
       ]
      },
      {
       "latex": [
        "$$\\left[\\begin{matrix}d & - b\\\\- c & a\\end{matrix}\\right]$$"
       ],
       "metadata": {},
       "output_type": "pyout",
       "png": "[encoded data removed]",
       "prompt_number": 11,
       "text": [
        "\u23a1d   -b\u23a4\n",
        "\u23a2      \u23a5\n",
        "\u23a3-c  a \u23a6"
       ]
      }
     ],
     "prompt_number": 11
    },
    {
     "cell_type": "code",
     "collapsed": false,
     "input": [],
     "language": "python",
     "metadata": {},
     "outputs": []
    }
   ],
   "metadata": {}
  }
 ]
}