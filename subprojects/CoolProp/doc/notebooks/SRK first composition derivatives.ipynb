{
 "cells": [
  {
   "cell_type": "markdown",
   "metadata": {},
   "source": [
    "First composition derivatives from SRK\n",
    "======================================"
   ]
  },
  {
   "cell_type": "markdown",
   "metadata": {},
   "source": [
    "$$\\frac{\\partial{} \\alpha^r}{{}{\\partial \\delta}} = \\frac{1}{R T_{r}} \\left(- R T_{r}\\frac{b}{b\\rho_r\\delta - 1} - \\rho_{r} \\tau\\frac{ a{\\left (\\tau \\right )}}{b \\delta \\rho_{r} + 1}\\right)$$"
   ]
  },
  {
   "cell_type": "markdown",
   "metadata": {},
   "source": [
    "$$\\frac{\\partial}{\\partial x_i}\\left(\\frac{\\partial{} \\alpha^r}{{}{\\partial \\delta}}\\right) = \\frac{1}{R T_{r}} \\left(-RT_r \\frac{(b\\delta\\rho_r-1)\\frac{db}{dx_i}-b\\rho_r\\delta\\frac{db}{dx_i}}{(b \\rho_{r}\\delta - 1)^2} - \\rho_{r} \\tau \\frac{(b \\delta \\rho_{r} + 1)\\frac{\\partial a}{\\partial x_i}-a\\delta\\rho_r\\frac{\\partial b}{\\partial x_i}}{(b \\delta \\rho_{r} + 1)^2}\\right)$$"
   ]
  },
  {
   "cell_type": "markdown",
   "metadata": {},
   "source": [
    "$$\\frac{\\partial}{\\partial x_i}\\left(\\frac{\\partial{} \\alpha^r}{{}{\\partial \\delta}}\\right) = \\frac{1}{R T_{r}} \\left( \\frac{db}{dx_i}\\frac{RT_r}{(b \\rho_{r}\\delta - 1)^2} - \\rho_{r} \\tau \\frac{(b \\delta \\rho_{r} + 1)\\frac{\\partial a}{\\partial x_i}-a\\delta\\rho_r\\frac{\\partial b}{\\partial x_i}}{(b \\delta \\rho_{r} + 1)^2}\\right)$$"
   ]
  },
  {
   "cell_type": "code",
   "execution_count": null,
   "metadata": {
    "collapsed": true
   },
   "outputs": [],
   "source": []
  },
  {
   "cell_type": "markdown",
   "metadata": {},
   "source": [
    "$$\\frac{\\partial{} \\alpha^r}{{\\partial \\tau}{}} = \\frac{1}{R T_{r}} \\left(\\left(- \\tau\\frac{\\frac{d}{d \\tau} a{\\left (\\tau \\right )}}{b} - \\frac{a{\\left (\\tau \\right )}}{b} \\right) \\log{\\left (b \\delta \\rho_{r} + 1 \\right )}\\right)$$"
   ]
  },
  {
   "cell_type": "markdown",
   "metadata": {},
   "source": [
    "$$\\frac{\\partial}{\\partial x_i}\\left(\\frac{\\partial{} \\alpha^r}{{\\partial \\tau}{}}\\right) = \\frac{1}{R T_{r}} \\left(\\left(- \\tau \\frac{b\\frac{d^2a}{\\partial\\tau\\partial x_i} -\\frac{\\partial a}{\\partial \\tau}\\frac{\\partial b}{\\partial x_i}}{b^2} - \\frac{b\\frac{\\partial a}{\\partial x_i}-a\\frac{\\partial b}{\\partial x_i}}{b^2} \\right) \\log{\\left (b \\delta \\rho_{r} + 1 \\right )} + \\left(- \\tau\\frac{\\frac{d}{d \\tau} a{\\left (\\tau \\right )}}{b} - \\frac{a{\\left (\\tau \\right )}}{b} \\right) \\frac{\\delta\\rho_r}{\\left (b \\delta \\rho_{r} + 1 \\right )}\\frac{\\partial b}{\\partial x_i} \\right)$$"
   ]
  },
  {
   "cell_type": "code",
   "execution_count": null,
   "metadata": {
    "collapsed": true
   },
   "outputs": [],
   "source": []
  },
  {
   "cell_type": "markdown",
   "metadata": {},
   "source": [
    "$$\\frac{\\partial{^{2}} \\alpha^r}{{}{\\partial \\delta^{2}}} = \\frac{1}{R T_{r}} \\left(R T_{r}\\frac{1}{\\left(\\delta - \\frac{1}{b \\rho_{r}}\\right)^{2}} + \\rho_{r}^{2} \\tau \\frac{b a{\\left (\\tau \\right )}}{\\left(b \\delta \\rho_{r} + 1\\right)^{2}}\\right)$$"
   ]
  },
  {
   "cell_type": "markdown",
   "metadata": {},
   "source": [
    "$$\\frac{\\partial}{\\partial x_i} \\left( \\frac{\\partial{^{2}} \\alpha^r}{{}{\\partial \\delta^{2}}} \\right) = \\frac{1}{R T_{r}} \\left(R T_{r}\\frac{-2\\left(\\delta - \\frac{1}{b \\rho_{r}}\\right)\\left(\\frac{1}{b\\rho_r^2}\\right)}{\\left(\\delta - \\frac{1}{b \\rho_{r}}\\right)^{4}} + \\rho_{r}^{2} \\tau \\frac{\\left(b \\delta \\rho_{r} + 1\\right)^{2}(b\\frac{\\partial a}{\\partial x_i}-a\\frac{\\partial b}{\\partial x_i})-2ba\\left(b \\delta \\rho_{r} + 1\\right)\\delta\\rho_r\\frac{\\partial b}{\\partial x_i}}{\\left(b \\delta \\rho_{r} + 1\\right)^{2}}\\right) $$"
   ]
  },
  {
   "cell_type": "markdown",
   "metadata": {},
   "source": [
    "$$\\frac{\\partial}{\\partial x_i} \\left( \\frac{\\partial{^{2}} \\alpha^r}{{}{\\partial \\delta^{2}}} \\right) = \\frac{1}{R T_{r}} \\left(-\\frac{2R T_{r}}{b^2\\rho_r\\left(\\delta - \\frac{1}{b \\rho_{r}}\\right)^{3}} + \\rho_{r}^{2} \\tau\\left( \\left(b\\frac{\\partial a}{\\partial x_i}-a\\frac{\\partial b}{\\partial x_i}\\right) -\\frac{2ba\\delta\\rho_r\\frac{\\partial b}{\\partial x_i}}{\\left(b \\delta \\rho_{r} + 1\\right)}\\right)\\right) $$"
   ]
  },
  {
   "cell_type": "code",
   "execution_count": null,
   "metadata": {
    "collapsed": true
   },
   "outputs": [],
   "source": []
  },
  {
   "cell_type": "markdown",
   "metadata": {},
   "source": [
    "$$\\frac{\\partial{^{2}} \\alpha^r}{{\\partial \\tau}{\\partial \\delta}} = -\\frac{\\rho_r}{R T_{r} } \\left(\\frac{\\tau \\frac{da}{d \\tau}+a}{b \\delta \\rho_{r} + 1} \\right)$$"
   ]
  },
  {
   "cell_type": "markdown",
   "metadata": {},
   "source": [
    "$$\\frac{\\partial}{\\partial x_i}\\left(\\frac{\\partial{^{2}} \\alpha^r}{{\\partial \\tau}{\\partial \\delta}}\\right) = -\\frac{\\rho_r}{R T_{r} } \\left( \\frac{(b \\delta \\rho_{r} + 1)(\\tau \\frac{\\partial^2a}{\\partial \\tau \\partial x_i}+\\frac{\\partial a}{\\partial x_i})-(\\tau \\frac{da}{d \\tau}+a)\\delta\\rho_r\\frac{\\partial b}{\\partial x_i}}{(b \\delta \\rho_{r} + 1)^2} \\right)$$"
   ]
  },
  {
   "cell_type": "code",
   "execution_count": null,
   "metadata": {
    "collapsed": true
   },
   "outputs": [],
   "source": []
  },
  {
   "cell_type": "markdown",
   "metadata": {},
   "source": [
    "$$\\frac{\\partial{^{2}} \\alpha^r}{{\\partial \\tau^{2}}{}} = - \\frac{1}{R T_{r} } \\left(\\tau \\frac{d^{2}}{d \\tau^{2}}  a{\\left (\\tau \\right )} + 2 \\frac{d}{d \\tau} a{\\left (\\tau \\right )}\\right) \\frac{\\log{\\left (b \\delta \\rho_{r} + 1 \\right )}}{b}$$"
   ]
  },
  {
   "cell_type": "markdown",
   "metadata": {},
   "source": [
    "$$\\frac{\\partial}{\\partial x_i}\\left(\\frac{\\partial{^{2}} \\alpha^r}{{\\partial \\tau^{2}}{}}\\right) = - \\frac{1}{R T_{r} } \\left[\\left(\\tau \\frac{\\partial^{3}a}{\\partial \\tau^{2}\\partial x_i}   + 2 \\frac{\\partial^2a}{\\partial \\tau\\partial x_i} \\right) \\frac{\\log{\\left (b \\delta \\rho_{r} + 1 \\right )}}{b} + \\left(\\tau \\frac{d^{2}}{d \\tau^{2}}  a{\\left (\\tau \\right )} + 2 \\frac{d}{d \\tau} a{\\left (\\tau \\right )}\\right) \\frac{\\partial b}{\\partial x_i}\\frac{\\frac{b\\delta\\rho_r}{\\left (b \\delta \\rho_{r} + 1 \\right )} - \\log{\\left (b \\delta \\rho_{r} + 1 \\right )}}{b^2} \\right]$$"
   ]
  },
  {
   "cell_type": "code",
   "execution_count": null,
   "metadata": {
    "collapsed": true
   },
   "outputs": [],
   "source": []
  },
  {
   "cell_type": "markdown",
   "metadata": {},
   "source": [
    "$$\\frac{\\partial{^{3}} \\alpha^r}{{}{\\partial \\delta^{3}}} = - \\frac{1}{R T_{r}} \\left(2 R T_{r}\\frac{1}{\\left(\\delta - \\frac{1}{b \\rho_{r}}\\right)^{3}} + 2 \\rho_{r}^{3} \\tau \\frac{b^{2} a{\\left (\\tau \\right )}}{\\left(b \\delta \\rho_{r} + 1\\right)^{3}}\\right)$$"
   ]
  },
  {
   "cell_type": "markdown",
   "metadata": {},
   "source": [
    "$$\\frac{\\partial}{\\partial x_i}\\left(\\frac{\\partial{^{3}} \\alpha^r}{{}{\\partial \\delta^{3}}}\\right) = - \\frac{1}{R T_{r}} \\left(2 R T_{r}\\frac{-3\\frac{1}{b^2\\rho_r}\\frac{\\partial b}{\\partial x_i}}{\\left(\\delta - \\frac{1}{b \\rho_{r}}\\right)^{4}} + 2 \\rho_{r}^{3} \\tau \\frac{\\left(b \\delta \\rho_{r} + 1\\right)^{3}(2ba\\frac{\\partial b}{\\partial x_i}+b^2\\frac{\\partial a}{\\partial x_i})-(b^2a)3\\left(b \\delta \\rho_{r} + 1\\right)^{2}\\delta\\rho_r\\frac{\\partial b}{\\partial x_i}}{\\left(b \\delta \\rho_{r} + 1\\right)^{6}}\\right)$$"
   ]
  },
  {
   "cell_type": "markdown",
   "metadata": {},
   "source": [
    "$$\\frac{\\partial}{\\partial x_i}\\left(\\frac{\\partial{^{3}} \\alpha^r}{{}{\\partial \\delta^{3}}}\\right) = - \\frac{1}{R T_{r}} \\left(\\frac{-6 R T_{r}}{b^2\\rho_r}\\frac{\\frac{\\partial b}{\\partial x_i}}{\\left(\\delta - \\frac{1}{b \\rho_{r}}\\right)^{4}} + 2 \\rho_{r}^{3} \\tau \\frac{\\left(b \\delta \\rho_{r} + 1\\right)(2ba\\frac{\\partial b}{\\partial x_i}+b^2\\frac{\\partial a}{\\partial x_i})-3b^2a\\delta\\rho_r\\frac{\\partial b}{\\partial x_i}}{\\left(b \\delta \\rho_{r} + 1\\right)^{4}}\\right)$$"
   ]
  },
  {
   "cell_type": "code",
   "execution_count": null,
   "metadata": {
    "collapsed": true
   },
   "outputs": [],
   "source": []
  },
  {
   "cell_type": "markdown",
   "metadata": {},
   "source": [
    "$$\\frac{\\partial{^{3}} \\alpha^r}{{\\partial \\tau}{\\partial \\delta^{2}}} = \\frac{\\rho_{r}^{2}}{R T_{r} }\\frac{b  \\left(\\tau \\frac{d}{d \\tau} a{\\left (\\tau \\right )} + a{\\left (\\tau \\right )}\\right)}{\\left(b \\delta \\rho_{r} + 1\\right)^{2}}$$"
   ]
  },
  {
   "cell_type": "markdown",
   "metadata": {},
   "source": [
    "$$\\frac{\\partial}{\\partial x_i}\\left(\\frac{\\partial{^{3}} \\alpha^r}{{\\partial \\tau}{\\partial \\delta^{2}}}\\right) = \\frac{\\rho_{r}^{2}}{R T_{r} }  \\frac{\\left(b \\delta \\rho_{r} + 1\\right)^2\\left[\\frac{\\partial b}{\\partial x_i}\\left(\\tau \\frac{da}{d \\tau}  + a\\right) + b\\left(\\tau \\frac{d^2a}{\\partial \\tau\\partial x_i}  + \\frac{\\partial a}{\\partial x_i}\\right)\\right] -2b\\delta \\rho_{r} \\left(b \\delta \\rho_{r} + 1\\right) \\left(\\tau \\frac{da}{d \\tau}  + a\\right) \\frac{\\partial b}{\\partial x_i}}{\\left(b \\delta \\rho_{r} + 1\\right)^{4}}$$"
   ]
  },
  {
   "cell_type": "code",
   "execution_count": null,
   "metadata": {
    "collapsed": true
   },
   "outputs": [],
   "source": []
  },
  {
   "cell_type": "markdown",
   "metadata": {},
   "source": [
    "$$\\frac{\\partial{^{3}} \\alpha^r}{{\\partial \\tau^{2}}{\\partial \\delta}} = - \\frac{\\rho_{r}}{R T_{r}}\\frac{1}{ \\left(b \\delta \\rho_{r} + 1\\right)} \\left(\\tau \\frac{d^{2}}{d \\tau^{2}}  a{\\left (\\tau \\right )} + 2 \\frac{d}{d \\tau} a{\\left (\\tau \\right )}\\right)$$"
   ]
  },
  {
   "cell_type": "markdown",
   "metadata": {},
   "source": [
    "$$\\frac{\\partial}{\\partial x_i}\\left(\\frac{\\partial{^{3}} \\alpha^r}{{\\partial \\tau^{2}}{\\partial \\delta}}\\right) = - \\frac{\\rho_{r}}{R T_{r}}\\left[\\frac{1}{ \\left(b \\delta \\rho_{r} + 1\\right)} \\left(\\tau \\frac{d^{3}a}{d \\tau^{2}\\partial x_i} + 2 \\frac{\\partial^2a}{\\partial\\tau\\partial x_i} \\right) + \\frac{-\\delta \\rho_{r}}{ \\left(b \\delta \\rho_{r} + 1\\right)^2}\\frac{\\partial b}{\\partial x_i} \\left(\\tau \\frac{d^{2}}{d \\tau^{2}}  a{\\left (\\tau \\right )} + 2 \\frac{d}{d \\tau} a{\\left (\\tau \\right )}\\right)\\right]$$"
   ]
  },
  {
   "cell_type": "code",
   "execution_count": null,
   "metadata": {
    "collapsed": true
   },
   "outputs": [],
   "source": []
  },
  {
   "cell_type": "markdown",
   "metadata": {},
   "source": [
    "$$\\frac{\\partial{^{3}} \\alpha^r}{{\\partial \\tau^{3}}{}} = - \\frac{1}{R T_{r}} \\left(\\tau \\frac{d^{3}}{d \\tau^{3}}  a{\\left (\\tau \\right )} + 3 \\frac{d^{2}}{d \\tau^{2}}  a{\\left (\\tau \\right )}\\right) \\frac{\\log{\\left (b \\delta \\rho_{r} + 1 \\right )}}{b} $$"
   ]
  },
  {
   "cell_type": "markdown",
   "metadata": {},
   "source": [
    "$$\\frac{\\partial}{\\partial x_i}\\left(\\frac{\\partial{^{3}} \\alpha^r}{{\\partial \\tau^{3}}{}}\\right) = - \\frac{1}{R T_{r} } \\left[\\left(\\tau \\frac{\\partial^{4}a}{\\partial \\tau^{3}\\partial x_i}   + 3 \\frac{\\partial^3a}{\\partial \\tau^2\\partial x_i} \\right) \\frac{\\log{\\left (b \\delta \\rho_{r} + 1 \\right )}}{b} + \\left(\\tau \\frac{d^{3}}{d \\tau^{3}}  a{\\left (\\tau \\right )} + 3 \\frac{d^2}{d \\tau^2} a{\\left (\\tau \\right )}\\right) \\frac{\\partial b}{\\partial x_i}\\frac{\\frac{b\\delta\\rho_r}{\\left (b \\delta \\rho_{r} + 1 \\right )} - \\log{\\left (b \\delta \\rho_{r} + 1 \\right )}}{b^2} \\right]$$"
   ]
  },
  {
   "cell_type": "code",
   "execution_count": null,
   "metadata": {
    "collapsed": true
   },
   "outputs": [],
   "source": []
  },
  {
   "cell_type": "markdown",
   "metadata": {},
   "source": [
    "$$\\frac{\\partial{^{4}} \\alpha^r}{{}{\\partial \\delta^{4}}} = - \\frac{1}{R T_{r}} \\left(6 R T_{r}\\frac{1}{\\left(\\delta - \\frac{1}{b \\rho_{r}}\\right)^{4}} + 6 \\rho_{r}^{4} \\tau \\frac{b^{3} a{\\left (\\tau \\right )}}{\\left(b \\delta \\rho_{r} + 1\\right)^{4}}\\right)$$"
   ]
  },
  {
   "cell_type": "markdown",
   "metadata": {},
   "source": [
    "$$\\frac{\\partial}{\\partial x_i}\\left(\\frac{\\partial{^{4}} \\alpha^r}{{}{\\partial \\delta^{4}}}\\right) = - \\frac{1}{R T_{r}} \\left(6 R T_{r}\\frac{-4\\frac{1}{b^2\\rho_r}\\frac{\\partial b}{\\partial x_i}}{\\left(\\delta - \\frac{1}{b \\rho_{r}}\\right)^{5}} + 6 \\rho_{r}^{4} \\tau \\frac{\\left(b \\delta \\rho_{r} + 1\\right)^{4}(3b^2a\\frac{\\partial b}{\\partial x_i}+b^3\\frac{\\partial a}{\\partial x_i})-(b^3a)4\\left(b \\delta \\rho_{r} + 1\\right)^{3}\\delta\\rho_r\\frac{\\partial b}{\\partial x_i}}{\\left(b \\delta \\rho_{r} + 1\\right)^{8}}\\right)$$"
   ]
  },
  {
   "cell_type": "code",
   "execution_count": null,
   "metadata": {
    "collapsed": true
   },
   "outputs": [],
   "source": []
  },
  {
   "cell_type": "markdown",
   "metadata": {},
   "source": [
    "$$\\frac{\\partial{^{4}} \\alpha^r}{{\\partial \\tau}{\\partial \\delta^{3}}} = - \\frac{2 \\rho_{r}^{3}}{R T_{r} }\\frac{ b^{2}}{\\left(b \\delta \\rho_{r} + 1\\right)^{3}} \\left(\\tau \\frac{d}{d \\tau} a{\\left (\\tau \\right )} + a{\\left (\\tau \\right )}\\right)$$"
   ]
  },
  {
   "cell_type": "markdown",
   "metadata": {},
   "source": [
    "$$\\frac{\\partial}{\\partial x_i}\\left(\\frac{\\partial{^{4}} \\alpha^r}{{\\partial \\tau}{\\partial \\delta^{3}}}\\right) = - \\frac{2 \\rho_{r}^{3}}{R T_{r} }\\left[\\frac{b^{2}}{\\left(b \\delta \\rho_{r} + 1\\right)^{3}} \\left(\\tau \\frac{\\partial^2a}{\\partial\\tau\\partial x_i}  + \\frac{\\partial a}{\\partial x_i}\\right) + \\frac{\\left(b \\delta \\rho_{r} + 1\\right)^{3}2b\\frac{db}{dx_i}-b^23\\left(b \\delta \\rho_{r} + 1\\right)^2\\delta\\rho_r\\frac{db}{dx_i}}{\\left(b \\delta \\rho_{r} + 1\\right)^{6}} \\left(\\tau \\frac{d}{d \\tau} a{\\left (\\tau \\right )} + a{\\left (\\tau \\right )}\\right)\\right]$$"
   ]
  },
  {
   "cell_type": "markdown",
   "metadata": {},
   "source": [
    "$$\\frac{\\partial}{\\partial x_i}\\left(\\frac{\\partial{^{4}} \\alpha^r}{{\\partial \\tau}{\\partial \\delta^{3}}}\\right) = - \\frac{2 \\rho_{r}^{3}}{R T_{r} }\\left[\\frac{b^{2}}{\\left(b \\delta \\rho_{r} + 1\\right)^{3}} \\left(\\tau \\frac{\\partial^2a}{\\partial\\tau\\partial x_i}  + \\frac{\\partial a}{\\partial x_i}\\right) + b\\frac{\\partial b}{\\partial x_i}\\frac{2\\left(\\delta \\rho_{r} + 1\\right)-3b\\delta\\rho_r}{\\left(b \\delta \\rho_{r} + 1\\right)^{4}} \\left(\\tau \\frac{d}{d \\tau} a{\\left (\\tau \\right )} + a{\\left (\\tau \\right )}\\right)\\right]$$"
   ]
  },
  {
   "cell_type": "code",
   "execution_count": null,
   "metadata": {
    "collapsed": true
   },
   "outputs": [],
   "source": []
  },
  {
   "cell_type": "markdown",
   "metadata": {},
   "source": [
    "$$\\frac{\\partial{^{4}} \\alpha^r}{{\\partial \\tau^{2}}{\\partial \\delta^{2}}} = \\frac{\\rho_{r}^{2}}{R T_{r}}\\frac{b}{ \\left(b \\delta \\rho_{r} + 1\\right)^{2}} \\left(\\tau \\frac{d^{2}}{d \\tau^{2}}  a{\\left (\\tau \\right )} + 2 \\frac{d}{d \\tau} a{\\left (\\tau \\right )}\\right)$$"
   ]
  },
  {
   "cell_type": "markdown",
   "metadata": {},
   "source": [
    "$$\\frac{\\partial}{\\partial x_i}\\left(\\frac{\\partial{^{4}} \\alpha^r}{{\\partial \\tau^{2}}{\\partial \\delta^{2}}}\\right) = \\frac{\\rho_{r}^{2}}{R T_{r}}\\left[\\frac{b}{\\left(b \\delta \\rho_{r} + 1\\right)^{2}} \\left(\\tau \\frac{\\partial^{3}a}{\\partial \\tau^{2}\\partial x_i} + 2 \\frac{d^2a}{d \\tau\\partial x_i}\\right) + \\frac{\\left(b \\delta \\rho_{r} + 1\\right)^{2}\\frac{\\partial b}{\\partial x_i} -b2\\left(b \\delta \\rho_{r} + 1\\right)\\delta\\rho_r\\frac{\\partial b}{\\partial x_i}}{ \\left(b \\delta \\rho_{r} + 1\\right)^{4}} \\left(\\tau \\frac{d^{2}}{d \\tau^{2}}  a{\\left (\\tau \\right )} + 2 \\frac{d}{d \\tau} a{\\left (\\tau \\right )}\\right)\\right]$$"
   ]
  },
  {
   "cell_type": "markdown",
   "metadata": {},
   "source": [
    "$$\\frac{\\partial}{\\partial x_i}\\left(\\frac{\\partial{^{4}} \\alpha^r}{{\\partial \\tau^{2}}{\\partial \\delta^{2}}}\\right) = \\frac{\\rho_{r}^{2}}{R T_{r}}\\left[\\frac{b}{\\left(b \\delta \\rho_{r} + 1\\right)^{2}} \\left(\\tau \\frac{\\partial^{3}a}{\\partial \\tau^{2}\\partial x_i} + 2 \\frac{d^2a}{d \\tau\\partial x_i}\\right) + \\frac{\\left(b \\delta \\rho_{r} + 1\\right)\\frac{\\partial b}{\\partial x_i} -2b\\delta\\rho_r\\frac{\\partial b}{\\partial x_i}}{ \\left(b \\delta \\rho_{r} + 1\\right)} \\left(\\tau \\frac{d^{2}}{d \\tau^{2}}  a{\\left (\\tau \\right )} + 2 \\frac{d}{d \\tau} a{\\left (\\tau \\right )}\\right)\\right]$$"
   ]
  },
  {
   "cell_type": "code",
   "execution_count": null,
   "metadata": {
    "collapsed": true
   },
   "outputs": [],
   "source": []
  },
  {
   "cell_type": "markdown",
   "metadata": {},
   "source": [
    "$$\\frac{\\partial{^{4}} \\alpha^r}{{\\partial \\tau^{3}}{\\partial \\delta}} = - \\frac{\\rho_{r}}{R T_{r}}\\frac{\\tau \\frac{d^{3}a}{d \\tau^{3}} + 3 \\frac{d^{2}a}{d \\tau^{2}}}{ \\left(b \\delta \\rho_{r} + 1\\right)}$$"
   ]
  },
  {
   "cell_type": "markdown",
   "metadata": {},
   "source": [
    "$$\\frac{\\partial}{\\partial x_i}\\left(\\frac{\\partial{^{4}} \\alpha^r}{{\\partial \\tau^{3}}{\\partial \\delta}}\\right) = - \\frac{\\rho_{r}}{R T_{r}}\\frac{\\left(b \\delta \\rho_{r} + 1\\right)\\left(\\tau \\frac{d^{4}a}{d \\tau^{3}\\partial x_i} + 3 \\frac{\\partial^{3}a}{\\partial \\tau^{2}\\partial x_i}\\right) - \\left(\\tau \\frac{d^{3}a}{d \\tau^{3}} + 3 \\frac{d^{2}a}{d \\tau^{2}}\\right)\\delta\\rho_r\\frac{\\partial b}{\\partial x_i}}{ \\left(b \\delta \\rho_{r} + 1\\right)^2}$$"
   ]
  },
  {
   "cell_type": "code",
   "execution_count": null,
   "metadata": {
    "collapsed": true
   },
   "outputs": [],
   "source": []
  },
  {
   "cell_type": "markdown",
   "metadata": {},
   "source": [
    "$$\\frac{\\partial{^{4}} \\alpha^r}{{\\partial \\tau^{4}}{}} = - \\frac{1}{R T_{r}} \\left(\\tau \\frac{d^{4}}{d \\tau^{4}}  a{\\left (\\tau \\right )} + 4 \\frac{d^{3}}{d \\tau^{3}}  a{\\left (\\tau \\right )}\\right) \\frac{\\log{\\left (b \\delta \\rho_{r} + 1 \\right )}}{b}$$"
   ]
  },
  {
   "cell_type": "markdown",
   "metadata": {},
   "source": [
    "$$\\frac{\\partial}{\\partial x_i}\\left(\\frac{\\partial{^{4}} \\alpha^r}{{\\partial \\tau^{4}}{}}\\right) = - \\frac{1}{R T_{r} } \\left[\\left(\\tau \\frac{\\partial^{5}a}{\\partial \\tau^{4}\\partial x_i}   + 4 \\frac{\\partial^4a}{\\partial \\tau^3\\partial x_i} \\right) \\frac{\\log{\\left (b \\delta \\rho_{r} + 1 \\right )}}{b} + \\left(\\tau \\frac{d^{4}}{d \\tau^{4}}  a{\\left (\\tau \\right )} + 4 \\frac{d^3}{d \\tau^3} a{\\left (\\tau \\right )}\\right) \\frac{\\partial b}{\\partial x_i}\\frac{\\frac{b\\delta\\rho_r}{\\left (b \\delta \\rho_{r} + 1 \\right )} - \\log{\\left (b \\delta \\rho_{r} + 1 \\right )}}{b^2} \\right]$$"
   ]
  },
  {
   "cell_type": "markdown",
   "metadata": {},
   "source": [
    "Derivatives of $a$\n",
    "=================="
   ]
  },
  {
   "cell_type": "markdown",
   "metadata": {},
   "source": [
    "$$a = \\sum_i\\sum_jx_ix_j\\sqrt{a_ia_j}(1-k_{ij}) $$\n",
    "\n",
    "$$\\frac{\\partial a}{\\partial \\tau} = \\sum_i\\sum_jx_ix_j\\frac{1}{2\\sqrt{a_ia_j}}\\left(a_i\\frac{\\partial a_j}{\\partial \\tau}+a_j\\frac{\\partial a_i}{\\partial \\tau}\\right)(1-k_{ij}) $$\n",
    "\n",
    "$$\\frac{\\partial^2 a}{\\partial \\tau\\partial x_i} = \\sum_jx_j\\frac{1}{2\\sqrt{a_ia_j}}\\left(a_i\\frac{\\partial a_j}{\\partial \\tau}+a_j\\frac{\\partial a_i}{\\partial \\tau}\\right)(1-k_{ij}) $$\n",
    "\n",
    "$$\\frac{\\partial^3 a}{\\partial \\tau\\partial x_i\\partial x_j} = \\frac{1}{2\\sqrt{a_ia_j}}\\left(a_i\\frac{\\partial a_j}{\\partial \\tau}+a_j\\frac{\\partial a_i}{\\partial \\tau}\\right)(1-k_{ij}) $$"
   ]
  },
  {
   "cell_type": "code",
   "execution_count": 1,
   "metadata": {
    "collapsed": false
   },
   "outputs": [
    {
     "data": {
      "image/png": "[encoded data removed]",
      "text/latex": [
       "$$\\sqrt{\\operatorname{a_{i}}{\\left (\\tau \\right )} \\operatorname{a_{j}}{\\left (\\tau \\right )}}$$"
      ],
      "text/plain": [
       "  ______________\n",
       "╲╱ aᵢ(τ)⋅a_j(τ) "
      ]
     },
     "metadata": {},
     "output_type": "display_data"
    },
    {
     "data": {
      "image/png": "[encoded data removed]",
      "text/latex": [
       "$$\\frac{\\sqrt{\\operatorname{a_{i}}{\\left (\\tau \\right )} \\operatorname{a_{j}}{\\left (\\tau \\right )}}}{2 \\operatorname{a_{i}}{\\left (\\tau \\right )} \\operatorname{a_{j}}{\\left (\\tau \\right )}} \\left(\\operatorname{a_{i}}{\\left (\\tau \\right )} \\frac{d}{d \\tau} \\operatorname{a_{j}}{\\left (\\tau \\right )} + \\operatorname{a_{j}}{\\left (\\tau \\right )} \\frac{d}{d \\tau} \\operatorname{a_{i}}{\\left (\\tau \\right )}\\right)$$"
      ],
      "text/plain": [
       "  ______________ ⎛      d                   d        ⎞\n",
       "╲╱ aᵢ(τ)⋅a_j(τ) ⋅⎜aᵢ(τ)⋅──(a_j(τ)) + a_j(τ)⋅──(aᵢ(τ))⎟\n",
       "                 ⎝      dτ                  dτ       ⎠\n",
       "──────────────────────────────────────────────────────\n",
       "                    2⋅aᵢ(τ)⋅a_j(τ)                    "
      ]
     },
     "metadata": {},
     "output_type": "display_data"
    },
    {
     "data": {
      "image/png": "[encoded data removed]",
      "text/latex": [
       "$$\\frac{\\sqrt{\\operatorname{a_{i}}{\\left (\\tau \\right )} \\operatorname{a_{j}}{\\left (\\tau \\right )}}}{4 \\operatorname{a_{i}}^{2}{\\left (\\tau \\right )} \\operatorname{a_{j}}^{2}{\\left (\\tau \\right )}} \\left(2 \\operatorname{a_{i}}^{2}{\\left (\\tau \\right )} \\operatorname{a_{j}}{\\left (\\tau \\right )} \\frac{d^{2}}{d \\tau^{2}}  \\operatorname{a_{j}}{\\left (\\tau \\right )} - \\operatorname{a_{i}}^{2}{\\left (\\tau \\right )} \\left(\\frac{d}{d \\tau} \\operatorname{a_{j}}{\\left (\\tau \\right )}\\right)^{2} + 2 \\operatorname{a_{i}}{\\left (\\tau \\right )} \\operatorname{a_{j}}^{2}{\\left (\\tau \\right )} \\frac{d^{2}}{d \\tau^{2}}  \\operatorname{a_{i}}{\\left (\\tau \\right )} + 2 \\operatorname{a_{i}}{\\left (\\tau \\right )} \\operatorname{a_{j}}{\\left (\\tau \\right )} \\frac{d}{d \\tau} \\operatorname{a_{i}}{\\left (\\tau \\right )} \\frac{d}{d \\tau} \\operatorname{a_{j}}{\\left (\\tau \\right )} - \\operatorname{a_{j}}^{2}{\\left (\\tau \\right )} \\left(\\frac{d}{d \\tau} \\operatorname{a_{i}}{\\left (\\tau \\right )}\\right)^{2}\\right)$$"
      ],
      "text/plain": [
       "                 ⎛                  2                              2          \n",
       "  ______________ ⎜    2            d              2    ⎛d         ⎞           \n",
       "╲╱ aᵢ(τ)⋅a_j(τ) ⋅⎜2⋅aᵢ (τ)⋅a_j(τ)⋅───(a_j(τ)) - aᵢ (τ)⋅⎜──(a_j(τ))⎟  + 2⋅aᵢ(τ)\n",
       "                 ⎜                  2                  ⎝dτ        ⎠           \n",
       "                 ⎝                dτ                                          \n",
       "──────────────────────────────────────────────────────────────────────────────\n",
       "                                                                            2 \n",
       "                                                                        4⋅aᵢ (\n",
       "\n",
       "           2                                                                  \n",
       "    2     d                          d         d               2    ⎛d        \n",
       "⋅a_j (τ)⋅───(aᵢ(τ)) + 2⋅aᵢ(τ)⋅a_j(τ)⋅──(aᵢ(τ))⋅──(a_j(τ)) - a_j (τ)⋅⎜──(aᵢ(τ))\n",
       "           2                         dτ        dτ                   ⎝dτ       \n",
       "         dτ                                                                   \n",
       "──────────────────────────────────────────────────────────────────────────────\n",
       "      2                                                                       \n",
       "τ)⋅a_j (τ)                                                                    \n",
       "\n",
       " 2⎞\n",
       "⎞ ⎟\n",
       "⎟ ⎟\n",
       "⎠ ⎟\n",
       "  ⎠\n",
       "───\n",
       "   \n",
       "   "
      ]
     },
     "metadata": {},
     "output_type": "display_data"
    },
    {
     "data": {
      "image/png": "[encoded data removed]",
      "text/latex": [
       "$$\\frac{\\sqrt{\\operatorname{a_{i}}{\\left (\\tau \\right )} \\operatorname{a_{j}}{\\left (\\tau \\right )}}}{8 \\operatorname{a_{i}}^{3}{\\left (\\tau \\right )} \\operatorname{a_{j}}^{3}{\\left (\\tau \\right )}} \\left(4 \\operatorname{a_{i}}^{3}{\\left (\\tau \\right )} \\operatorname{a_{j}}^{2}{\\left (\\tau \\right )} \\frac{d^{3}}{d \\tau^{3}}  \\operatorname{a_{j}}{\\left (\\tau \\right )} - 6 \\operatorname{a_{i}}^{3}{\\left (\\tau \\right )} \\operatorname{a_{j}}{\\left (\\tau \\right )} \\frac{d}{d \\tau} \\operatorname{a_{j}}{\\left (\\tau \\right )} \\frac{d^{2}}{d \\tau^{2}}  \\operatorname{a_{j}}{\\left (\\tau \\right )} + 3 \\operatorname{a_{i}}^{3}{\\left (\\tau \\right )} \\left(\\frac{d}{d \\tau} \\operatorname{a_{j}}{\\left (\\tau \\right )}\\right)^{3} + 4 \\operatorname{a_{i}}^{2}{\\left (\\tau \\right )} \\operatorname{a_{j}}^{3}{\\left (\\tau \\right )} \\frac{d^{3}}{d \\tau^{3}}  \\operatorname{a_{i}}{\\left (\\tau \\right )} + 6 \\operatorname{a_{i}}^{2}{\\left (\\tau \\right )} \\operatorname{a_{j}}^{2}{\\left (\\tau \\right )} \\frac{d}{d \\tau} \\operatorname{a_{i}}{\\left (\\tau \\right )} \\frac{d^{2}}{d \\tau^{2}}  \\operatorname{a_{j}}{\\left (\\tau \\right )} + 6 \\operatorname{a_{i}}^{2}{\\left (\\tau \\right )} \\operatorname{a_{j}}^{2}{\\left (\\tau \\right )} \\frac{d}{d \\tau} \\operatorname{a_{j}}{\\left (\\tau \\right )} \\frac{d^{2}}{d \\tau^{2}}  \\operatorname{a_{i}}{\\left (\\tau \\right )} - 3 \\operatorname{a_{i}}^{2}{\\left (\\tau \\right )} \\operatorname{a_{j}}{\\left (\\tau \\right )} \\frac{d}{d \\tau} \\operatorname{a_{i}}{\\left (\\tau \\right )} \\left(\\frac{d}{d \\tau} \\operatorname{a_{j}}{\\left (\\tau \\right )}\\right)^{2} - 6 \\operatorname{a_{i}}{\\left (\\tau \\right )} \\operatorname{a_{j}}^{3}{\\left (\\tau \\right )} \\frac{d}{d \\tau} \\operatorname{a_{i}}{\\left (\\tau \\right )} \\frac{d^{2}}{d \\tau^{2}}  \\operatorname{a_{i}}{\\left (\\tau \\right )} - 3 \\operatorname{a_{i}}{\\left (\\tau \\right )} \\operatorname{a_{j}}^{2}{\\left (\\tau \\right )} \\left(\\frac{d}{d \\tau} \\operatorname{a_{i}}{\\left (\\tau \\right )}\\right)^{2} \\frac{d}{d \\tau} \\operatorname{a_{j}}{\\left (\\tau \\right )} + 3 \\operatorname{a_{j}}^{3}{\\left (\\tau \\right )} \\left(\\frac{d}{d \\tau} \\operatorname{a_{i}}{\\left (\\tau \\right )}\\right)^{3}\\right)$$"
      ],
      "text/plain": [
       "                 ⎛                   3                                        \n",
       "  ______________ ⎜    3       2     d                3           d           d\n",
       "╲╱ aᵢ(τ)⋅a_j(τ) ⋅⎜4⋅aᵢ (τ)⋅a_j (τ)⋅───(a_j(τ)) - 6⋅aᵢ (τ)⋅a_j(τ)⋅──(a_j(τ))⋅──\n",
       "                 ⎜                   3                           dτ           \n",
       "                 ⎝                 dτ                                       dτ\n",
       "──────────────────────────────────────────────────────────────────────────────\n",
       "                                                                              \n",
       "                                                                              \n",
       "\n",
       "2                                3                      3                     \n",
       "                3    ⎛d         ⎞        2       3     d               2      \n",
       "─(a_j(τ)) + 3⋅aᵢ (τ)⋅⎜──(a_j(τ))⎟  + 4⋅aᵢ (τ)⋅a_j (τ)⋅───(aᵢ(τ)) + 6⋅aᵢ (τ)⋅a_\n",
       "2                    ⎝dτ        ⎠                       3                     \n",
       "                                                      dτ                      \n",
       "──────────────────────────────────────────────────────────────────────────────\n",
       "                                                                              \n",
       "                                                                              \n",
       "\n",
       "                  2                                         2                 \n",
       " 2    d          d                2       2    d           d               2  \n",
       "j (τ)⋅──(aᵢ(τ))⋅───(a_j(τ)) + 6⋅aᵢ (τ)⋅a_j (τ)⋅──(a_j(τ))⋅───(aᵢ(τ)) - 3⋅aᵢ (τ\n",
       "      dτ          2                            dτ           2                 \n",
       "                dτ                                        dτ                  \n",
       "──────────────────────────────────────────────────────────────────────────────\n",
       "                           3       3                                          \n",
       "                       8⋅aᵢ (τ)⋅a_j (τ)                                       \n",
       "\n",
       "                               2                               2              \n",
       "         d         ⎛d         ⎞               3    d          d               \n",
       ")⋅a_j(τ)⋅──(aᵢ(τ))⋅⎜──(a_j(τ))⎟  - 6⋅aᵢ(τ)⋅a_j (τ)⋅──(aᵢ(τ))⋅───(aᵢ(τ)) - 3⋅aᵢ\n",
       "         dτ        ⎝dτ        ⎠                    dτ          2              \n",
       "                                                             dτ               \n",
       "──────────────────────────────────────────────────────────────────────────────\n",
       "                                                                              \n",
       "                                                                              \n",
       "\n",
       "                       2                                   3⎞\n",
       "       2    ⎛d        ⎞  d                 3    ⎛d        ⎞ ⎟\n",
       "(τ)⋅a_j (τ)⋅⎜──(aᵢ(τ))⎟ ⋅──(a_j(τ)) + 3⋅a_j (τ)⋅⎜──(aᵢ(τ))⎟ ⎟\n",
       "            ⎝dτ       ⎠  dτ                     ⎝dτ       ⎠ ⎟\n",
       "                                                            ⎠\n",
       "─────────────────────────────────────────────────────────────\n",
       "                                                             \n",
       "                                                             "
      ]
     },
     "metadata": {},
     "output_type": "display_data"
    },
    {
     "data": {
      "image/png": "[encoded data removed]",
      "text/latex": [
       "$$\\frac{\\sqrt{\\operatorname{a_{i}}{\\left (\\tau \\right )} \\operatorname{a_{j}}{\\left (\\tau \\right )}}}{16 \\operatorname{a_{i}}^{4}{\\left (\\tau \\right )} \\operatorname{a_{j}}^{4}{\\left (\\tau \\right )}} \\left(8 \\operatorname{a_{i}}^{4}{\\left (\\tau \\right )} \\operatorname{a_{j}}^{3}{\\left (\\tau \\right )} \\frac{d^{4}}{d \\tau^{4}}  \\operatorname{a_{j}}{\\left (\\tau \\right )} - 16 \\operatorname{a_{i}}^{4}{\\left (\\tau \\right )} \\operatorname{a_{j}}^{2}{\\left (\\tau \\right )} \\frac{d}{d \\tau} \\operatorname{a_{j}}{\\left (\\tau \\right )} \\frac{d^{3}}{d \\tau^{3}}  \\operatorname{a_{j}}{\\left (\\tau \\right )} - 12 \\operatorname{a_{i}}^{4}{\\left (\\tau \\right )} \\operatorname{a_{j}}^{2}{\\left (\\tau \\right )} \\left(\\frac{d^{2}}{d \\tau^{2}}  \\operatorname{a_{j}}{\\left (\\tau \\right )}\\right)^{2} + 36 \\operatorname{a_{i}}^{4}{\\left (\\tau \\right )} \\operatorname{a_{j}}{\\left (\\tau \\right )} \\left(\\frac{d}{d \\tau} \\operatorname{a_{j}}{\\left (\\tau \\right )}\\right)^{2} \\frac{d^{2}}{d \\tau^{2}}  \\operatorname{a_{j}}{\\left (\\tau \\right )} - 15 \\operatorname{a_{i}}^{4}{\\left (\\tau \\right )} \\left(\\frac{d}{d \\tau} \\operatorname{a_{j}}{\\left (\\tau \\right )}\\right)^{4} + 8 \\operatorname{a_{i}}^{3}{\\left (\\tau \\right )} \\operatorname{a_{j}}^{4}{\\left (\\tau \\right )} \\frac{d^{4}}{d \\tau^{4}}  \\operatorname{a_{i}}{\\left (\\tau \\right )} + 16 \\operatorname{a_{i}}^{3}{\\left (\\tau \\right )} \\operatorname{a_{j}}^{3}{\\left (\\tau \\right )} \\frac{d}{d \\tau} \\operatorname{a_{i}}{\\left (\\tau \\right )} \\frac{d^{3}}{d \\tau^{3}}  \\operatorname{a_{j}}{\\left (\\tau \\right )} + 16 \\operatorname{a_{i}}^{3}{\\left (\\tau \\right )} \\operatorname{a_{j}}^{3}{\\left (\\tau \\right )} \\frac{d}{d \\tau} \\operatorname{a_{j}}{\\left (\\tau \\right )} \\frac{d^{3}}{d \\tau^{3}}  \\operatorname{a_{i}}{\\left (\\tau \\right )} + 24 \\operatorname{a_{i}}^{3}{\\left (\\tau \\right )} \\operatorname{a_{j}}^{3}{\\left (\\tau \\right )} \\frac{d^{2}}{d \\tau^{2}}  \\operatorname{a_{i}}{\\left (\\tau \\right )} \\frac{d^{2}}{d \\tau^{2}}  \\operatorname{a_{j}}{\\left (\\tau \\right )} - 24 \\operatorname{a_{i}}^{3}{\\left (\\tau \\right )} \\operatorname{a_{j}}^{2}{\\left (\\tau \\right )} \\frac{d}{d \\tau} \\operatorname{a_{i}}{\\left (\\tau \\right )} \\frac{d}{d \\tau} \\operatorname{a_{j}}{\\left (\\tau \\right )} \\frac{d^{2}}{d \\tau^{2}}  \\operatorname{a_{j}}{\\left (\\tau \\right )} - 12 \\operatorname{a_{i}}^{3}{\\left (\\tau \\right )} \\operatorname{a_{j}}^{2}{\\left (\\tau \\right )} \\left(\\frac{d}{d \\tau} \\operatorname{a_{j}}{\\left (\\tau \\right )}\\right)^{2} \\frac{d^{2}}{d \\tau^{2}}  \\operatorname{a_{i}}{\\left (\\tau \\right )} + 12 \\operatorname{a_{i}}^{3}{\\left (\\tau \\right )} \\operatorname{a_{j}}{\\left (\\tau \\right )} \\frac{d}{d \\tau} \\operatorname{a_{i}}{\\left (\\tau \\right )} \\left(\\frac{d}{d \\tau} \\operatorname{a_{j}}{\\left (\\tau \\right )}\\right)^{3} - 16 \\operatorname{a_{i}}^{2}{\\left (\\tau \\right )} \\operatorname{a_{j}}^{4}{\\left (\\tau \\right )} \\frac{d}{d \\tau} \\operatorname{a_{i}}{\\left (\\tau \\right )} \\frac{d^{3}}{d \\tau^{3}}  \\operatorname{a_{i}}{\\left (\\tau \\right )} - 12 \\operatorname{a_{i}}^{2}{\\left (\\tau \\right )} \\operatorname{a_{j}}^{4}{\\left (\\tau \\right )} \\left(\\frac{d^{2}}{d \\tau^{2}}  \\operatorname{a_{i}}{\\left (\\tau \\right )}\\right)^{2} - 12 \\operatorname{a_{i}}^{2}{\\left (\\tau \\right )} \\operatorname{a_{j}}^{3}{\\left (\\tau \\right )} \\left(\\frac{d}{d \\tau} \\operatorname{a_{i}}{\\left (\\tau \\right )}\\right)^{2} \\frac{d^{2}}{d \\tau^{2}}  \\operatorname{a_{j}}{\\left (\\tau \\right )} - 24 \\operatorname{a_{i}}^{2}{\\left (\\tau \\right )} \\operatorname{a_{j}}^{3}{\\left (\\tau \\right )} \\frac{d}{d \\tau} \\operatorname{a_{i}}{\\left (\\tau \\right )} \\frac{d}{d \\tau} \\operatorname{a_{j}}{\\left (\\tau \\right )} \\frac{d^{2}}{d \\tau^{2}}  \\operatorname{a_{i}}{\\left (\\tau \\right )} + 6 \\operatorname{a_{i}}^{2}{\\left (\\tau \\right )} \\operatorname{a_{j}}^{2}{\\left (\\tau \\right )} \\left(\\frac{d}{d \\tau} \\operatorname{a_{i}}{\\left (\\tau \\right )}\\right)^{2} \\left(\\frac{d}{d \\tau} \\operatorname{a_{j}}{\\left (\\tau \\right )}\\right)^{2} + 36 \\operatorname{a_{i}}{\\left (\\tau \\right )} \\operatorname{a_{j}}^{4}{\\left (\\tau \\right )} \\left(\\frac{d}{d \\tau} \\operatorname{a_{i}}{\\left (\\tau \\right )}\\right)^{2} \\frac{d^{2}}{d \\tau^{2}}  \\operatorname{a_{i}}{\\left (\\tau \\right )} + 12 \\operatorname{a_{i}}{\\left (\\tau \\right )} \\operatorname{a_{j}}^{3}{\\left (\\tau \\right )} \\left(\\frac{d}{d \\tau} \\operatorname{a_{i}}{\\left (\\tau \\right )}\\right)^{3} \\frac{d}{d \\tau} \\operatorname{a_{j}}{\\left (\\tau \\right )} - 15 \\operatorname{a_{j}}^{4}{\\left (\\tau \\right )} \\left(\\frac{d}{d \\tau} \\operatorname{a_{i}}{\\left (\\tau \\right )}\\right)^{4}\\right)$$"
      ],
      "text/plain": [
       "                 ⎛                                                            \n",
       "                 ⎜                   4                                        \n",
       "  ______________ ⎜    4       3     d                 4       2    d          \n",
       "╲╱ aᵢ(τ)⋅a_j(τ) ⋅⎜8⋅aᵢ (τ)⋅a_j (τ)⋅───(a_j(τ)) - 16⋅aᵢ (τ)⋅a_j (τ)⋅──(a_j(τ))⋅\n",
       "                 ⎜                   4                             dτ         \n",
       "                 ⎝                 dτ                                         \n",
       "──────────────────────────────────────────────────────────────────────────────\n",
       "                                                                              \n",
       "                                                                              \n",
       "\n",
       "                                             2                                \n",
       "  3                             ⎛  2        ⎞                                 \n",
       " d                 4       2    ⎜ d         ⎟         4           ⎛d         ⎞\n",
       "───(a_j(τ)) - 12⋅aᵢ (τ)⋅a_j (τ)⋅⎜───(a_j(τ))⎟  + 36⋅aᵢ (τ)⋅a_j(τ)⋅⎜──(a_j(τ))⎟\n",
       "  3                             ⎜  2        ⎟                     ⎝dτ        ⎠\n",
       "dτ                              ⎝dτ         ⎠                                 \n",
       "──────────────────────────────────────────────────────────────────────────────\n",
       "                                                                              \n",
       "                                                                              \n",
       "\n",
       "                                                                              \n",
       "2   2                                 4                      4                \n",
       "   d                 4    ⎛d         ⎞        3       4     d                3\n",
       " ⋅───(a_j(τ)) - 15⋅aᵢ (τ)⋅⎜──(a_j(τ))⎟  + 8⋅aᵢ (τ)⋅a_j (τ)⋅───(aᵢ(τ)) + 16⋅aᵢ \n",
       "    2                     ⎝dτ        ⎠                       4                \n",
       "  dτ                                                       dτ                 \n",
       "──────────────────────────────────────────────────────────────────────────────\n",
       "                                                                              \n",
       "                                                                              \n",
       "\n",
       "                                                                              \n",
       "                        3                                          3          \n",
       "       3    d          d                 3       3    d           d           \n",
       "(τ)⋅a_j (τ)⋅──(aᵢ(τ))⋅───(a_j(τ)) + 16⋅aᵢ (τ)⋅a_j (τ)⋅──(a_j(τ))⋅───(aᵢ(τ)) + \n",
       "            dτ          3                             dτ           3          \n",
       "                      dτ                                         dτ           \n",
       "──────────────────────────────────────────────────────────────────────────────\n",
       "                                                                              \n",
       "                                                                              \n",
       "\n",
       "                                                                              \n",
       "                    2          2                                              \n",
       "     3       3     d          d                 3       2    d         d      \n",
       "24⋅aᵢ (τ)⋅a_j (τ)⋅───(aᵢ(τ))⋅───(a_j(τ)) - 24⋅aᵢ (τ)⋅a_j (τ)⋅──(aᵢ(τ))⋅──(a_j(\n",
       "                    2          2                             dτ        dτ     \n",
       "                  dτ         dτ                                               \n",
       "──────────────────────────────────────────────────────────────────────────────\n",
       "                                                                              \n",
       "                                                                              \n",
       "\n",
       "                                                                              \n",
       "      2                                         2   2                         \n",
       "     d                 3       2    ⎛d         ⎞   d                3         \n",
       "τ))⋅───(a_j(τ)) - 12⋅aᵢ (τ)⋅a_j (τ)⋅⎜──(a_j(τ))⎟ ⋅───(aᵢ(τ)) + 12⋅aᵢ (τ)⋅a_j(τ\n",
       "      2                             ⎝dτ        ⎠    2                         \n",
       "    dτ                                            dτ                          \n",
       "──────────────────────────────────────────────────────────────────────────────\n",
       "                  4       4                                                   \n",
       "             16⋅aᵢ (τ)⋅a_j (τ)                                                \n",
       "\n",
       "                                                                              \n",
       "                        3                                 3                   \n",
       "  d         ⎛d         ⎞         2       4    d          d                2   \n",
       ")⋅──(aᵢ(τ))⋅⎜──(a_j(τ))⎟  - 16⋅aᵢ (τ)⋅a_j (τ)⋅──(aᵢ(τ))⋅───(aᵢ(τ)) - 12⋅aᵢ (τ)\n",
       "  dτ        ⎝dτ        ⎠                      dτ          3                   \n",
       "                                                        dτ                    \n",
       "──────────────────────────────────────────────────────────────────────────────\n",
       "                                                                              \n",
       "                                                                              \n",
       "\n",
       "                     2                                                        \n",
       "         ⎛  2       ⎞                                 2   2                   \n",
       "    4    ⎜ d        ⎟         2       3    ⎛d        ⎞   d                 2  \n",
       "⋅a_j (τ)⋅⎜───(aᵢ(τ))⎟  - 12⋅aᵢ (τ)⋅a_j (τ)⋅⎜──(aᵢ(τ))⎟ ⋅───(a_j(τ)) - 24⋅aᵢ (τ\n",
       "         ⎜  2       ⎟                      ⎝dτ       ⎠    2                   \n",
       "         ⎝dτ        ⎠                                   dτ                    \n",
       "──────────────────────────────────────────────────────────────────────────────\n",
       "                                                                              \n",
       "                                                                              \n",
       "\n",
       "                                                                              \n",
       "                                 2                                      2     \n",
       "     3    d         d           d               2       2    ⎛d        ⎞  ⎛d  \n",
       ")⋅a_j (τ)⋅──(aᵢ(τ))⋅──(a_j(τ))⋅───(aᵢ(τ)) + 6⋅aᵢ (τ)⋅a_j (τ)⋅⎜──(aᵢ(τ))⎟ ⋅⎜──(\n",
       "          dτ        dτ           2                           ⎝dτ       ⎠  ⎝dτ \n",
       "                               dτ                                             \n",
       "──────────────────────────────────────────────────────────────────────────────\n",
       "                                                                              \n",
       "                                                                              \n",
       "\n",
       "                                                                              \n",
       "        2                               2   2                                 \n",
       "       ⎞                4    ⎛d        ⎞   d                       3    ⎛d    \n",
       "a_j(τ))⎟  + 36⋅aᵢ(τ)⋅a_j (τ)⋅⎜──(aᵢ(τ))⎟ ⋅───(aᵢ(τ)) + 12⋅aᵢ(τ)⋅a_j (τ)⋅⎜──(aᵢ\n",
       "       ⎠                     ⎝dτ       ⎠    2                           ⎝dτ   \n",
       "                                          dτ                                  \n",
       "──────────────────────────────────────────────────────────────────────────────\n",
       "                                                                              \n",
       "                                                                              \n",
       "\n",
       "                                           ⎞\n",
       "     3                                    4⎟\n",
       "    ⎞  d                  4    ⎛d        ⎞ ⎟\n",
       "(τ))⎟ ⋅──(a_j(τ)) - 15⋅a_j (τ)⋅⎜──(aᵢ(τ))⎟ ⎟\n",
       "    ⎠  dτ                      ⎝dτ       ⎠ ⎟\n",
       "                                           ⎠\n",
       "────────────────────────────────────────────\n",
       "                                            \n",
       "                                            "
      ]
     },
     "metadata": {},
     "output_type": "display_data"
    }
   ],
   "source": [
    "from __future__ import division\n",
    "from sympy import *\n",
    "from IPython.display import display\n",
    "init_printing()\n",
    "tau = symbols('tau', positive = True, real = True)\n",
    "\n",
    "a_i = symbols('a_i', cls = Function)(tau)\n",
    "a_j = symbols('a_j', cls = Function)(tau)\n",
    "\n",
    "for idiff in range(0,5):\n",
    "    display(simplify(diff(sqrt(a_i*a_j),tau,idiff)))"
   ]
  },
  {
   "cell_type": "code",
   "execution_count": null,
   "metadata": {
    "collapsed": true
   },
   "outputs": [],
   "source": []
  }
 ],
 "metadata": {
  "kernelspec": {
   "display_name": "Python 2",
   "language": "python",
   "name": "python2"
  },
  "language_info": {
   "codemirror_mode": {
    "name": "ipython",
    "version": 2
   },
   "file_extension": ".py",
   "mimetype": "text/x-python",
   "name": "python",
   "nbconvert_exporter": "python",
   "pygments_lexer": "ipython2",
   "version": "2.7.10"
  }
 },
 "nbformat": 4,
 "nbformat_minor": 0
}
